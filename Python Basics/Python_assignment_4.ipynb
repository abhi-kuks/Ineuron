{
 "cells": [
  {
   "cell_type": "code",
   "execution_count": 1,
   "metadata": {},
   "outputs": [],
   "source": [
    "# Write a Python Program(with class concepts) to find the area of the triangle using the below\n",
    "# formula.\n",
    "# area = (s*(s-a)*(s-b)*(s-c)) ** 0.5\n",
    "# Function to take the length of the sides of triangle from user should be defined in the parent\n",
    "# class and function to calculate the area should be defined in subclass."
   ]
  },
  {
   "cell_type": "code",
   "execution_count": 5,
   "metadata": {},
   "outputs": [
    {
     "name": "stdout",
     "output_type": "stream",
     "text": [
      "Enter the first side:20\n",
      "Enter the second side:30\n",
      "Enter the third side:40\n",
      "Area of triangle is 290.4737509655563\n"
     ]
    }
   ],
   "source": [
    "class sides :\n",
    "    def __init__(self):\n",
    "        self.a = float(input(\"Enter the first side:\"))\n",
    "        self.b = float(input(\"Enter the second side:\"))\n",
    "        self.c = float(input(\"Enter the third side:\"))\n",
    "\n",
    "    def __str__(self):\n",
    "        return f'A : {self.a} B : {self.b} C : {self.c}'\n",
    "\n",
    "class triangle_area(sides):\n",
    "    def __init__(self,*args):\n",
    "        super().__init__(*args)\n",
    "\n",
    "    def calc_area(self):\n",
    "        s = (self.a + self.b + self.c)* 0.5\n",
    "        return float((s * (s-self.a) * (s-self.b) * (s-self.c))) ** 0.5\n",
    "# (30 * 20 *10)\n",
    "#     def print_info(self):\n",
    "#         print(f'the are of sides {self.a} {self.b} {self.c} is {calc_area()}')\n",
    "\n",
    "t = triangle_area()\n",
    "# print(t)\n",
    "print(f'Area of triangle is {t.calc_area()}')\n"
   ]
  },
  {
   "cell_type": "code",
   "execution_count": 21,
   "metadata": {},
   "outputs": [],
   "source": [
    "# Write a Python program using function concept that maps list of words into a list of integers\n",
    "# representing the lengths of the corresponding words."
   ]
  },
  {
   "cell_type": "code",
   "execution_count": 6,
   "metadata": {},
   "outputs": [],
   "source": [
    "def filter_long_words(lst,n):\n",
    "    a = []\n",
    "    for x in lst:\n",
    "        if len(x)> n:\n",
    "            a.append(x)\n",
    "    return a "
   ]
  },
  {
   "cell_type": "code",
   "execution_count": 7,
   "metadata": {},
   "outputs": [],
   "source": [
    "lst = ['abhishek',\"kukreja\" , 'laala','lakshmi', \"Shreeji\"]"
   ]
  },
  {
   "cell_type": "code",
   "execution_count": 8,
   "metadata": {},
   "outputs": [
    {
     "data": {
      "text/plain": [
       "['abhishek', 'kukreja', 'lakshmi', 'Shreeji']"
      ]
     },
     "execution_count": 8,
     "metadata": {},
     "output_type": "execute_result"
    }
   ],
   "source": [
    "filter_long_words(lst , 5)"
   ]
  },
  {
   "cell_type": "code",
   "execution_count": 9,
   "metadata": {},
   "outputs": [],
   "source": [
    "def word_len(lst):\n",
    "    a = []\n",
    "    for x in lst:\n",
    "        a.append(len(x))\n",
    "    return a "
   ]
  },
  {
   "cell_type": "code",
   "execution_count": 10,
   "metadata": {},
   "outputs": [
    {
     "data": {
      "text/plain": [
       "[8, 7, 5, 7, 7]"
      ]
     },
     "execution_count": 10,
     "metadata": {},
     "output_type": "execute_result"
    }
   ],
   "source": [
    "word_len(lst)"
   ]
  },
  {
   "cell_type": "code",
   "execution_count": null,
   "metadata": {},
   "outputs": [],
   "source": [
    "# Write a Python function which takes a character (i.e. a string of length 1) and returns True if\n",
    "# it is a vowel, False otherwise."
   ]
  },
  {
   "cell_type": "code",
   "execution_count": 13,
   "metadata": {},
   "outputs": [],
   "source": [
    "def is_vowel_or_not(z):\n",
    "    x = ['a','e','i','o','u']\n",
    "    if z not in x:\n",
    "        return False\n",
    "    return True"
   ]
  },
  {
   "cell_type": "code",
   "execution_count": 19,
   "metadata": {},
   "outputs": [
    {
     "data": {
      "text/plain": [
       "False"
      ]
     },
     "execution_count": 19,
     "metadata": {},
     "output_type": "execute_result"
    }
   ],
   "source": [
    "is_vowel_or_not('z')"
   ]
  },
  {
   "cell_type": "code",
   "execution_count": 20,
   "metadata": {},
   "outputs": [
    {
     "data": {
      "text/plain": [
       "True"
      ]
     },
     "execution_count": 20,
     "metadata": {},
     "output_type": "execute_result"
    }
   ],
   "source": [
    "is_vowel_or_not('a')"
   ]
  },
  {
   "cell_type": "code",
   "execution_count": null,
   "metadata": {},
   "outputs": [],
   "source": []
  }
 ],
 "metadata": {
  "kernelspec": {
   "display_name": "Python 3",
   "language": "python",
   "name": "python3"
  },
  "language_info": {
   "codemirror_mode": {
    "name": "ipython",
    "version": 3
   },
   "file_extension": ".py",
   "mimetype": "text/x-python",
   "name": "python",
   "nbconvert_exporter": "python",
   "pygments_lexer": "ipython3",
   "version": "3.7.7"
  }
 },
 "nbformat": 4,
 "nbformat_minor": 4
}
